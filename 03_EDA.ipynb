{
 "cells": [
  {
   "cell_type": "markdown",
   "metadata": {},
   "source": [
    "<h2 align =center > EDA </h2>"
   ]
  },
  {
   "cell_type": "markdown",
   "metadata": {},
   "source": [
    "#### The libraries to be used are imported."
   ]
  },
  {
   "cell_type": "code",
   "execution_count": 11,
   "metadata": {},
   "outputs": [],
   "source": [
    "import pandas as pd\n",
    "import numpy as np\n",
    "import seaborn as sns\n",
    "import matplotlib.pyplot as plt\n",
    "import Tools as t"
   ]
  },
  {
   "cell_type": "markdown",
   "metadata": {},
   "source": [
    "#### Data is ingested into a Pandas dataframe."
   ]
  },
  {
   "cell_type": "markdown",
   "metadata": {},
   "source": [
    "                                                                                --> Censo del 2020  \n",
    "https://www.indec.gob.ar/indec/web/Nivel4-CensoProvincia-999-999-02-999-2010    --> Censo del 2010  \n",
    "https://www.indec.gob.ar/indec/web/Nivel4-CensoProvincia2001-0-999-02-0-2001    --> Censo del 2001"
   ]
  },
  {
   "cell_type": "code",
   "execution_count": 12,
   "metadata": {},
   "outputs": [
    {
     "data": {
      "text/html": [
       "<div>\n",
       "<style scoped>\n",
       "    .dataframe tbody tr th:only-of-type {\n",
       "        vertical-align: middle;\n",
       "    }\n",
       "\n",
       "    .dataframe tbody tr th {\n",
       "        vertical-align: top;\n",
       "    }\n",
       "\n",
       "    .dataframe thead th {\n",
       "        text-align: right;\n",
       "    }\n",
       "</style>\n",
       "<table border=\"1\" class=\"dataframe\">\n",
       "  <thead>\n",
       "    <tr style=\"text-align: right;\">\n",
       "      <th></th>\n",
       "      <th>idSiniestro</th>\n",
       "      <th>NumVictimas</th>\n",
       "      <th>Fecha</th>\n",
       "      <th>Anio</th>\n",
       "      <th>Mes</th>\n",
       "      <th>Dia</th>\n",
       "      <th>Hora</th>\n",
       "      <th>H</th>\n",
       "      <th>LugarHecho</th>\n",
       "      <th>TipoDeCalle</th>\n",
       "      <th>...</th>\n",
       "      <th>PosX</th>\n",
       "      <th>PosY</th>\n",
       "      <th>Participantes</th>\n",
       "      <th>Victima</th>\n",
       "      <th>Acusado</th>\n",
       "      <th>barrio</th>\n",
       "      <th>Rol</th>\n",
       "      <th>Sexo</th>\n",
       "      <th>Edad</th>\n",
       "      <th>FechaFallecimiento</th>\n",
       "    </tr>\n",
       "  </thead>\n",
       "  <tbody>\n",
       "    <tr>\n",
       "      <th>0</th>\n",
       "      <td>2016-0001</td>\n",
       "      <td>1</td>\n",
       "      <td>2016-01-01</td>\n",
       "      <td>2016</td>\n",
       "      <td>1</td>\n",
       "      <td>1</td>\n",
       "      <td>04:00:00</td>\n",
       "      <td>4</td>\n",
       "      <td>AV PIEDRA BUENA Y AV FERNANDEZ DE LA CRUZ</td>\n",
       "      <td>AVENIDA</td>\n",
       "      <td>...</td>\n",
       "      <td>-58.475340</td>\n",
       "      <td>-34.687570</td>\n",
       "      <td>MOTO-AUTO</td>\n",
       "      <td>MOTO</td>\n",
       "      <td>AUTO</td>\n",
       "      <td>VILLA RIACHUELO</td>\n",
       "      <td>CONDUCTOR</td>\n",
       "      <td>1.0</td>\n",
       "      <td>19</td>\n",
       "      <td>2016-01-01 00:00:00</td>\n",
       "    </tr>\n",
       "    <tr>\n",
       "      <th>1</th>\n",
       "      <td>2016-0002</td>\n",
       "      <td>1</td>\n",
       "      <td>2016-01-02</td>\n",
       "      <td>2016</td>\n",
       "      <td>1</td>\n",
       "      <td>2</td>\n",
       "      <td>01:15:00</td>\n",
       "      <td>1</td>\n",
       "      <td>AV GRAL PAZ  Y AV DE LOS CORRALES</td>\n",
       "      <td>GRAL PAZ</td>\n",
       "      <td>...</td>\n",
       "      <td>-58.508775</td>\n",
       "      <td>-34.669777</td>\n",
       "      <td>AUTO-PASAJEROS</td>\n",
       "      <td>AUTO</td>\n",
       "      <td>PASAJEROS</td>\n",
       "      <td>No se encontró el barrio para estas coordenadas.</td>\n",
       "      <td>CONDUCTOR</td>\n",
       "      <td>1.0</td>\n",
       "      <td>70</td>\n",
       "      <td>2016-01-02 00:00:00</td>\n",
       "    </tr>\n",
       "    <tr>\n",
       "      <th>2</th>\n",
       "      <td>2016-0003</td>\n",
       "      <td>1</td>\n",
       "      <td>2016-01-03</td>\n",
       "      <td>2016</td>\n",
       "      <td>1</td>\n",
       "      <td>3</td>\n",
       "      <td>07:00:00</td>\n",
       "      <td>7</td>\n",
       "      <td>AV ENTRE RIOS 2034</td>\n",
       "      <td>AVENIDA</td>\n",
       "      <td>...</td>\n",
       "      <td>-58.390403</td>\n",
       "      <td>-34.631894</td>\n",
       "      <td>MOTO-AUTO</td>\n",
       "      <td>MOTO</td>\n",
       "      <td>AUTO</td>\n",
       "      <td>CONSTITUCION</td>\n",
       "      <td>CONDUCTOR</td>\n",
       "      <td>1.0</td>\n",
       "      <td>30</td>\n",
       "      <td>2016-01-03 00:00:00</td>\n",
       "    </tr>\n",
       "    <tr>\n",
       "      <th>3</th>\n",
       "      <td>2016-0004</td>\n",
       "      <td>1</td>\n",
       "      <td>2016-01-10</td>\n",
       "      <td>2016</td>\n",
       "      <td>1</td>\n",
       "      <td>10</td>\n",
       "      <td>00:00:00</td>\n",
       "      <td>0</td>\n",
       "      <td>AV LARRAZABAL Y GRAL VILLEGAS CONRADO</td>\n",
       "      <td>AVENIDA</td>\n",
       "      <td>...</td>\n",
       "      <td>-58.465039</td>\n",
       "      <td>-34.680930</td>\n",
       "      <td>MOTO-SD</td>\n",
       "      <td>MOTO</td>\n",
       "      <td>SD</td>\n",
       "      <td>VILLA LUGANO</td>\n",
       "      <td>CONDUCTOR</td>\n",
       "      <td>1.0</td>\n",
       "      <td>18</td>\n",
       "      <td>SD</td>\n",
       "    </tr>\n",
       "    <tr>\n",
       "      <th>4</th>\n",
       "      <td>2016-0005</td>\n",
       "      <td>1</td>\n",
       "      <td>2016-01-21</td>\n",
       "      <td>2016</td>\n",
       "      <td>1</td>\n",
       "      <td>21</td>\n",
       "      <td>05:20:00</td>\n",
       "      <td>5</td>\n",
       "      <td>AV SAN JUAN Y PRESIDENTE LUIS SAENZ PEÑA</td>\n",
       "      <td>AVENIDA</td>\n",
       "      <td>...</td>\n",
       "      <td>-58.387183</td>\n",
       "      <td>-34.622466</td>\n",
       "      <td>MOTO-PASAJEROS</td>\n",
       "      <td>MOTO</td>\n",
       "      <td>PASAJEROS</td>\n",
       "      <td>CONSTITUCION</td>\n",
       "      <td>CONDUCTOR</td>\n",
       "      <td>1.0</td>\n",
       "      <td>29</td>\n",
       "      <td>2016-02-01 00:00:00</td>\n",
       "    </tr>\n",
       "  </tbody>\n",
       "</table>\n",
       "<p>5 rows × 24 columns</p>\n",
       "</div>"
      ],
      "text/plain": [
       "  idSiniestro  NumVictimas       Fecha  Anio  Mes  Dia      Hora  H  \\\n",
       "0   2016-0001            1  2016-01-01  2016    1    1  04:00:00  4   \n",
       "1   2016-0002            1  2016-01-02  2016    1    2  01:15:00  1   \n",
       "2   2016-0003            1  2016-01-03  2016    1    3  07:00:00  7   \n",
       "3   2016-0004            1  2016-01-10  2016    1   10  00:00:00  0   \n",
       "4   2016-0005            1  2016-01-21  2016    1   21  05:20:00  5   \n",
       "\n",
       "                                  LugarHecho TipoDeCalle  ...       PosX  \\\n",
       "0  AV PIEDRA BUENA Y AV FERNANDEZ DE LA CRUZ     AVENIDA  ... -58.475340   \n",
       "1          AV GRAL PAZ  Y AV DE LOS CORRALES    GRAL PAZ  ... -58.508775   \n",
       "2                         AV ENTRE RIOS 2034     AVENIDA  ... -58.390403   \n",
       "3      AV LARRAZABAL Y GRAL VILLEGAS CONRADO     AVENIDA  ... -58.465039   \n",
       "4  AV SAN JUAN Y PRESIDENTE LUIS SAENZ PEÑA      AVENIDA  ... -58.387183   \n",
       "\n",
       "        PosY   Participantes  Victima    Acusado  \\\n",
       "0 -34.687570       MOTO-AUTO     MOTO       AUTO   \n",
       "1 -34.669777  AUTO-PASAJEROS     AUTO  PASAJEROS   \n",
       "2 -34.631894       MOTO-AUTO     MOTO       AUTO   \n",
       "3 -34.680930         MOTO-SD     MOTO         SD   \n",
       "4 -34.622466  MOTO-PASAJEROS     MOTO  PASAJEROS   \n",
       "\n",
       "                                             barrio        Rol Sexo Edad  \\\n",
       "0                                   VILLA RIACHUELO  CONDUCTOR  1.0   19   \n",
       "1  No se encontró el barrio para estas coordenadas.  CONDUCTOR  1.0   70   \n",
       "2                                      CONSTITUCION  CONDUCTOR  1.0   30   \n",
       "3                                      VILLA LUGANO  CONDUCTOR  1.0   18   \n",
       "4                                      CONSTITUCION  CONDUCTOR  1.0   29   \n",
       "\n",
       "    FechaFallecimiento  \n",
       "0  2016-01-01 00:00:00  \n",
       "1  2016-01-02 00:00:00  \n",
       "2  2016-01-03 00:00:00  \n",
       "3                   SD  \n",
       "4  2016-02-01 00:00:00  \n",
       "\n",
       "[5 rows x 24 columns]"
      ]
     },
     "execution_count": 12,
     "metadata": {},
     "output_type": "execute_result"
    }
   ],
   "source": [
    "df = pd.read_csv(\"data/df_accidentes.csv\")\n",
    "df.head()"
   ]
  },
  {
   "cell_type": "code",
   "execution_count": 13,
   "metadata": {},
   "outputs": [
    {
     "data": {
      "text/plain": [
       "Index(['idSiniestro', 'NumVictimas', 'Fecha', 'Anio', 'Mes', 'Dia', 'Hora',\n",
       "       'H', 'LugarHecho', 'TipoDeCalle', 'Calle', 'Cruce',\n",
       "       'DireccionNormalizada', 'Comuna', 'PosX', 'PosY', 'Participantes',\n",
       "       'Victima', 'Acusado', 'barrio', 'Rol', 'Sexo', 'Edad',\n",
       "       'FechaFallecimiento'],\n",
       "      dtype='object')"
      ]
     },
     "execution_count": 13,
     "metadata": {},
     "output_type": "execute_result"
    }
   ],
   "source": [
    "df.columns"
   ]
  },
  {
   "cell_type": "markdown",
   "metadata": {},
   "source": [
    "#### Missing values"
   ]
  },
  {
   "cell_type": "code",
   "execution_count": 14,
   "metadata": {},
   "outputs": [
    {
     "data": {
      "text/html": [
       "<div>\n",
       "<style scoped>\n",
       "    .dataframe tbody tr th:only-of-type {\n",
       "        vertical-align: middle;\n",
       "    }\n",
       "\n",
       "    .dataframe tbody tr th {\n",
       "        vertical-align: top;\n",
       "    }\n",
       "\n",
       "    .dataframe thead th {\n",
       "        text-align: right;\n",
       "    }\n",
       "</style>\n",
       "<table border=\"1\" class=\"dataframe\">\n",
       "  <thead>\n",
       "    <tr style=\"text-align: right;\">\n",
       "      <th></th>\n",
       "      <th>%_valores_nulos</th>\n",
       "      <th>Cantidad_Nulos</th>\n",
       "      <th>Cantidad_NO_Nulos</th>\n",
       "      <th>Total_Registros</th>\n",
       "    </tr>\n",
       "  </thead>\n",
       "  <tbody>\n",
       "    <tr>\n",
       "      <th>idSiniestro</th>\n",
       "      <td>0.00</td>\n",
       "      <td>0</td>\n",
       "      <td>717</td>\n",
       "      <td>717</td>\n",
       "    </tr>\n",
       "    <tr>\n",
       "      <th>NumVictimas</th>\n",
       "      <td>0.00</td>\n",
       "      <td>0</td>\n",
       "      <td>717</td>\n",
       "      <td>717</td>\n",
       "    </tr>\n",
       "    <tr>\n",
       "      <th>Fecha</th>\n",
       "      <td>0.00</td>\n",
       "      <td>0</td>\n",
       "      <td>717</td>\n",
       "      <td>717</td>\n",
       "    </tr>\n",
       "    <tr>\n",
       "      <th>Anio</th>\n",
       "      <td>0.00</td>\n",
       "      <td>0</td>\n",
       "      <td>717</td>\n",
       "      <td>717</td>\n",
       "    </tr>\n",
       "    <tr>\n",
       "      <th>Mes</th>\n",
       "      <td>0.00</td>\n",
       "      <td>0</td>\n",
       "      <td>717</td>\n",
       "      <td>717</td>\n",
       "    </tr>\n",
       "    <tr>\n",
       "      <th>Dia</th>\n",
       "      <td>0.00</td>\n",
       "      <td>0</td>\n",
       "      <td>717</td>\n",
       "      <td>717</td>\n",
       "    </tr>\n",
       "    <tr>\n",
       "      <th>Hora</th>\n",
       "      <td>0.00</td>\n",
       "      <td>0</td>\n",
       "      <td>717</td>\n",
       "      <td>717</td>\n",
       "    </tr>\n",
       "    <tr>\n",
       "      <th>H</th>\n",
       "      <td>0.00</td>\n",
       "      <td>0</td>\n",
       "      <td>717</td>\n",
       "      <td>717</td>\n",
       "    </tr>\n",
       "    <tr>\n",
       "      <th>LugarHecho</th>\n",
       "      <td>0.00</td>\n",
       "      <td>0</td>\n",
       "      <td>717</td>\n",
       "      <td>717</td>\n",
       "    </tr>\n",
       "    <tr>\n",
       "      <th>TipoDeCalle</th>\n",
       "      <td>0.00</td>\n",
       "      <td>0</td>\n",
       "      <td>717</td>\n",
       "      <td>717</td>\n",
       "    </tr>\n",
       "    <tr>\n",
       "      <th>Calle</th>\n",
       "      <td>0.14</td>\n",
       "      <td>1</td>\n",
       "      <td>716</td>\n",
       "      <td>717</td>\n",
       "    </tr>\n",
       "    <tr>\n",
       "      <th>Cruce</th>\n",
       "      <td>24.69</td>\n",
       "      <td>177</td>\n",
       "      <td>540</td>\n",
       "      <td>717</td>\n",
       "    </tr>\n",
       "    <tr>\n",
       "      <th>DireccionNormalizada</th>\n",
       "      <td>1.26</td>\n",
       "      <td>9</td>\n",
       "      <td>708</td>\n",
       "      <td>717</td>\n",
       "    </tr>\n",
       "    <tr>\n",
       "      <th>Comuna</th>\n",
       "      <td>0.00</td>\n",
       "      <td>0</td>\n",
       "      <td>717</td>\n",
       "      <td>717</td>\n",
       "    </tr>\n",
       "    <tr>\n",
       "      <th>PosX</th>\n",
       "      <td>0.00</td>\n",
       "      <td>0</td>\n",
       "      <td>717</td>\n",
       "      <td>717</td>\n",
       "    </tr>\n",
       "    <tr>\n",
       "      <th>PosY</th>\n",
       "      <td>0.00</td>\n",
       "      <td>0</td>\n",
       "      <td>717</td>\n",
       "      <td>717</td>\n",
       "    </tr>\n",
       "    <tr>\n",
       "      <th>Participantes</th>\n",
       "      <td>0.00</td>\n",
       "      <td>0</td>\n",
       "      <td>717</td>\n",
       "      <td>717</td>\n",
       "    </tr>\n",
       "    <tr>\n",
       "      <th>Victima</th>\n",
       "      <td>0.00</td>\n",
       "      <td>0</td>\n",
       "      <td>717</td>\n",
       "      <td>717</td>\n",
       "    </tr>\n",
       "    <tr>\n",
       "      <th>Acusado</th>\n",
       "      <td>0.00</td>\n",
       "      <td>0</td>\n",
       "      <td>717</td>\n",
       "      <td>717</td>\n",
       "    </tr>\n",
       "    <tr>\n",
       "      <th>barrio</th>\n",
       "      <td>0.00</td>\n",
       "      <td>0</td>\n",
       "      <td>717</td>\n",
       "      <td>717</td>\n",
       "    </tr>\n",
       "    <tr>\n",
       "      <th>Rol</th>\n",
       "      <td>0.00</td>\n",
       "      <td>0</td>\n",
       "      <td>717</td>\n",
       "      <td>717</td>\n",
       "    </tr>\n",
       "    <tr>\n",
       "      <th>Sexo</th>\n",
       "      <td>0.84</td>\n",
       "      <td>6</td>\n",
       "      <td>711</td>\n",
       "      <td>717</td>\n",
       "    </tr>\n",
       "    <tr>\n",
       "      <th>Edad</th>\n",
       "      <td>0.00</td>\n",
       "      <td>0</td>\n",
       "      <td>717</td>\n",
       "      <td>717</td>\n",
       "    </tr>\n",
       "    <tr>\n",
       "      <th>FechaFallecimiento</th>\n",
       "      <td>0.00</td>\n",
       "      <td>0</td>\n",
       "      <td>717</td>\n",
       "      <td>717</td>\n",
       "    </tr>\n",
       "  </tbody>\n",
       "</table>\n",
       "</div>"
      ],
      "text/plain": [
       "                      %_valores_nulos  Cantidad_Nulos  Cantidad_NO_Nulos  \\\n",
       "idSiniestro                      0.00               0                717   \n",
       "NumVictimas                      0.00               0                717   \n",
       "Fecha                            0.00               0                717   \n",
       "Anio                             0.00               0                717   \n",
       "Mes                              0.00               0                717   \n",
       "Dia                              0.00               0                717   \n",
       "Hora                             0.00               0                717   \n",
       "H                                0.00               0                717   \n",
       "LugarHecho                       0.00               0                717   \n",
       "TipoDeCalle                      0.00               0                717   \n",
       "Calle                            0.14               1                716   \n",
       "Cruce                           24.69             177                540   \n",
       "DireccionNormalizada             1.26               9                708   \n",
       "Comuna                           0.00               0                717   \n",
       "PosX                             0.00               0                717   \n",
       "PosY                             0.00               0                717   \n",
       "Participantes                    0.00               0                717   \n",
       "Victima                          0.00               0                717   \n",
       "Acusado                          0.00               0                717   \n",
       "barrio                           0.00               0                717   \n",
       "Rol                              0.00               0                717   \n",
       "Sexo                             0.84               6                711   \n",
       "Edad                             0.00               0                717   \n",
       "FechaFallecimiento               0.00               0                717   \n",
       "\n",
       "                      Total_Registros  \n",
       "idSiniestro                       717  \n",
       "NumVictimas                       717  \n",
       "Fecha                             717  \n",
       "Anio                              717  \n",
       "Mes                               717  \n",
       "Dia                               717  \n",
       "Hora                              717  \n",
       "H                                 717  \n",
       "LugarHecho                        717  \n",
       "TipoDeCalle                       717  \n",
       "Calle                             717  \n",
       "Cruce                             717  \n",
       "DireccionNormalizada              717  \n",
       "Comuna                            717  \n",
       "PosX                              717  \n",
       "PosY                              717  \n",
       "Participantes                     717  \n",
       "Victima                           717  \n",
       "Acusado                           717  \n",
       "barrio                            717  \n",
       "Rol                               717  \n",
       "Sexo                              717  \n",
       "Edad                              717  \n",
       "FechaFallecimiento                717  "
      ]
     },
     "execution_count": 14,
     "metadata": {},
     "output_type": "execute_result"
    }
   ],
   "source": [
    "nulos = t.PorcentajeNulos(df)\n",
    "nulos"
   ]
  },
  {
   "cell_type": "code",
   "execution_count": 15,
   "metadata": {},
   "outputs": [
    {
     "ename": "TypeError",
     "evalue": "ContarRegistrosSD() missing 1 required positional argument: 'palabra2'",
     "output_type": "error",
     "traceback": [
      "\u001b[1;31m---------------------------------------------------------------------------\u001b[0m",
      "\u001b[1;31mTypeError\u001b[0m                                 Traceback (most recent call last)",
      "\u001b[1;32mg:\\My Drive\\2. Data Science Henry\\PI_Accidentes_Viales\\03_EDA.ipynb Cell 10\u001b[0m line \u001b[0;36m1\n\u001b[1;32m----> <a href='vscode-notebook-cell:/g%3A/My%20Drive/2.%20Data%20Science%20Henry/PI_Accidentes_Viales/03_EDA.ipynb#X25sZmlsZQ%3D%3D?line=0'>1</a>\u001b[0m sindato \u001b[39m=\u001b[39m t\u001b[39m.\u001b[39;49mContarRegistrosSD(df, \u001b[39m'\u001b[39;49m\u001b[39mSD\u001b[39;49m\u001b[39m'\u001b[39;49m)\n\u001b[0;32m      <a href='vscode-notebook-cell:/g%3A/My%20Drive/2.%20Data%20Science%20Henry/PI_Accidentes_Viales/03_EDA.ipynb#X25sZmlsZQ%3D%3D?line=1'>2</a>\u001b[0m sindato\n",
      "\u001b[1;31mTypeError\u001b[0m: ContarRegistrosSD() missing 1 required positional argument: 'palabra2'"
     ]
    }
   ],
   "source": [
    "sindato = t.ContarRegistrosSD(df, 'SD')\n",
    "sindato"
   ]
  },
  {
   "cell_type": "markdown",
   "metadata": {},
   "source": [
    "#### Outliers"
   ]
  },
  {
   "cell_type": "code",
   "execution_count": 17,
   "metadata": {},
   "outputs": [
    {
     "data": {
      "text/plain": [
       "<Axes: xlabel='Anio'>"
      ]
     },
     "execution_count": 17,
     "metadata": {},
     "output_type": "execute_result"
    },
    {
     "data": {
      "image/png": "[encoded data removed]",
      "text/plain": [
       "<Figure size 640x480 with 1 Axes>"
      ]
     },
     "metadata": {},
     "output_type": "display_data"
    }
   ],
   "source": [
    "sns.boxplot(data = df, x = 'Anio')"
   ]
  },
  {
   "cell_type": "code",
   "execution_count": 15,
   "metadata": {},
   "outputs": [
    {
     "data": {
      "text/plain": [
       "Text(0.5, 1.0, 'Cantidad de accidentes por Comuna')"
      ]
     },
     "execution_count": 15,
     "metadata": {},
     "output_type": "execute_result"
    },
    {
     "data": {
      "image/png": "[encoded data removed]",
      "text/plain": [
       "<Figure size 640x480 with 1 Axes>"
      ]
     },
     "metadata": {},
     "output_type": "display_data"
    }
   ],
   "source": [
    "order = df['Comuna'].value_counts().index\n",
    "mascara = df['Comuna'] != 0\n",
    "sns.countplot(data = df[mascara], x = 'Comuna', order = order)\n",
    "plt.title('Cantidad de accidentes por Comuna del año ')"
   ]
  },
  {
   "cell_type": "code",
   "execution_count": 7,
   "metadata": {},
   "outputs": [
    {
     "data": {
      "text/plain": [
       "Text(0.5, 1.0, 'Tipo de Calles donde ocurren accidentes')"
      ]
     },
     "execution_count": 7,
     "metadata": {},
     "output_type": "execute_result"
    },
    {
     "data": {
      "image/png": "[encoded data removed]",
      "text/plain": [
       "<Figure size 640x480 with 1 Axes>"
      ]
     },
     "metadata": {},
     "output_type": "display_data"
    }
   ],
   "source": [
    "order = df['TipoDeCalle'].value_counts().index\n",
    "sns.countplot(data = df, x = 'TipoDeCalle',order=order)\n",
    "plt.title('Tipo de Calles donde ocurren accidentes')"
   ]
  },
  {
   "cell_type": "code",
   "execution_count": null,
   "metadata": {},
   "outputs": [],
   "source": []
  },
  {
   "cell_type": "code",
   "execution_count": null,
   "metadata": {},
   "outputs": [],
   "source": []
  },
  {
   "cell_type": "markdown",
   "metadata": {},
   "source": [
    "Reducir en un 10% la tasa de homicidios en siniestros viales de los últimos seis meses, en CABA, en comparación con la tasa de homicidios en siniestros viales del semestre anterior.  \n",
    "\n",
    "Definimos a la tasa de homicidios en siniestros viales como el número de víctimas fatales en accidentes de tránsito por cada 100,000 habitantes en un área geográfica durante un período de tiempo específico. Su fórmula es: (Número de homicidios en siniestros viales / Población total) * 100,000  \n",
    "\n",
    "Reducir en un 7% la cantidad de accidentes mortales de motociclistas en el último año, en CABA, respecto al año anterior.  \n",
    "\n",
    "Definimos a la cantidad de accidentes mortales de motociclistas en siniestros viales como el número absoluto de accidentes fatales en los que estuvieron involucradas víctimas que viajaban en moto en un determinado periodo temporal. Su fórmula para medir la evolución de los accidentes mortales con víctimas en moto es: (Número de accidentes mortales con víctimas en moto en el año anterior - Número de accidentes mortales con víctimas en moto en el año actual) / (Número de accidentes mortales con víctimas en moto en el año anterior) * 100"
   ]
  },
  {
   "cell_type": "code",
   "execution_count": null,
   "metadata": {},
   "outputs": [],
   "source": []
  }
 ],
 "metadata": {
  "kernelspec": {
   "display_name": "Python 3",
   "language": "python",
   "name": "python3"
  },
  "language_info": {
   "codemirror_mode": {
    "name": "ipython",
    "version": 3
   },
   "file_extension": ".py",
   "mimetype": "text/x-python",
   "name": "python",
   "nbconvert_exporter": "python",
   "pygments_lexer": "ipython3",
   "version": "3.12.0"
  }
 },
 "nbformat": 4,
 "nbformat_minor": 2
}
